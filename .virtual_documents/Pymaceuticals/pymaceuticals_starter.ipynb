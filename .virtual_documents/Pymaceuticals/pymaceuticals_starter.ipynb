


# Dependencies and Setup
import matplotlib.pyplot as plt
import pandas as pd
import scipy.stats as st
import numpy as np
from scipy.stats import sem

    # This allows the display of more than one variable in a cell
    # without having to explicitly invoke the display command:
from IPython.core.interactiveshell import InteractiveShell
InteractiveShell.ast_node_interactivity = "all"

# Study data files
mouse_metadata_path = "data/Mouse_metadata.csv"
study_results_path = "data/Study_results.csv"

# Read the mouse data and the study results
mouse_metadata = pd.read_csv(mouse_metadata_path)
study_results = pd.read_csv(study_results_path)

# Combine the data into a single DataFrame
mouse_data_df = pd.merge(study_results, mouse_metadata, how="inner", on="Mouse ID")

# Display the data table for preview
mouse_data_df.head()
mouse_data_df.count()


# Checking the number of mice.
no_of_mice = len(mouse_data_df["Mouse ID"].unique())
no_of_mice


# Our data should be uniquely identified by Mouse ID and Timepoint
# Get the duplicate mice by ID number that shows up for Mouse ID and Timepoint. 

#Find duplicate data
duplicate_data = mouse_data_df[mouse_data_df.duplicated(subset=["Mouse ID", "Timepoint"], keep = False)]
duplicate_data = duplicate_data["Mouse ID"].unique()
duplicate_data


# Optional: Get all the data for the duplicate mouse ID. 
all_data_from_duplicated_mice_df = mouse_data_df.loc[mouse_data_df['Mouse ID'].isin(duplicate_data)]
all_data_from_duplicated_mice_df


# Create a clean DataFrame by dropping the duplicate mouse by its ID.
clean_mice_data_df = mouse_data_df.drop(mouse_data_df[mouse_data_df["Mouse ID"].isin(duplicate_data)].index)
clean_mice_data_df.head()


#clean_mice_data_df.to_csv("dataoutput.csv")


# Checking the number of mice in the clean DataFrame.
no_of_clean_mice = len(clean_mice_data_df["Mouse ID"].unique())
no_of_clean_mice





# Generate a summary statistics table of mean, median, variance, standard deviation, and SEM of the tumor volume for each regimen

# Use groupby and summary statistical methods to calculate the following properties of each drug regimen: 
# mean, median, variance (assuming population by applying a factor of "ddof=1"), standard deviation (see 'variance' for explanation),
# and SEM of the tumor volume. 
# Assemble the resulting series into a single summary DataFrame.

clean_mice_data_df = clean_mice_data_df.rename(columns={'Tumor Volume (mm3)':'Tumor Volume'})
clean_mice_data_df2 = clean_mice_data_df[["Drug Regimen","Tumor Volume"]]
#clean_mice_data_df
#clean_mice_data_df.dtypes

clean_mice_stats_df = []
mean_tum_vol = clean_mice_data_df2.groupby(clean_mice_data_df2["Drug Regimen"])["Tumor Volume"].apply(np.mean)
med_tum_vol = clean_mice_data_df2.groupby(clean_mice_data_df2["Drug Regimen"])["Tumor Volume"].apply(np.median)
var_tum_vol = clean_mice_data_df2.groupby(clean_mice_data_df2["Drug Regimen"])["Tumor Volume"].agg(np.var, ddof=1)
std_tum_vol = clean_mice_data_df2.groupby(clean_mice_data_df2["Drug Regimen"])["Tumor Volume"].agg(np.std, ddof=1)
sem_tum_vol = clean_mice_data_df2.groupby(clean_mice_data_df2["Drug Regimen"])["Tumor Volume"].sem()

clean_mice_stats_df = pd.DataFrame({"Mean Tumor Volume":mean_tum_vol,
                                    "Median Tumor Volume":med_tum_vol,
                                    "Tumor Volume Variance":var_tum_vol,
                                    "Tumor Volume Std. Var.":std_tum_vol,
                                    "Tumor Volume Std. Err.":sem_tum_vol
                                   })
clean_mice_stats_df


# A more advanced method to generate a summary statistics table of mean, median, variance, standard deviation,
# and SEM of the tumor volume for each regimen (only one method is required in the solution)


# clean_mice_data_df2 = mouse_data_df.drop(mouse_data_df[mouse_data_df["Mouse ID"].isin(duplicate_data)].index)
# clean_mice_data_df2 = clean_mice_data_df2[["Drug Regimen","Tumor Volume (mm3)"]]

# clean_stats_data_df2 = clean_mice_data_df2.groupby(["Drug Regimen"]).describe()
# clean_stats_data_df2 = clean_stats_data_df2.iloc[:,[1,5,2]]
# array1 = np.array(clean_stats_data_df2.iloc[:,[2]])
# var_tum_vol2 = np.multiply(array1, array1)
# var_tum_vol2
# clean_stats_data_df2["var"] = var_tum_vol2

# clean_stats_data_df2

# Using the aggregation method, produce the same summary statistics in a single line
clean_stats_data_df2 = clean_mice_data_df2.groupby(["Drug Regimen"])["Tumor Volume"].agg(["mean","median","var","std","sem"])

#Formatting and output
column_headers = [("Tumor Volume (mm3)","mean"),
                  ("Tumor Volume (mm3)","median"),
                  ("Tumor Volume (mm3)","var"),
                  ("Tumor Volume (mm3)","std"),
                  ("Tumor Volume (mm3)","sem")]
clean_stats_data_df2.columns=pd.MultiIndex.from_tuples(column_headers)
clean_stats_data_df2





# Generate a bar plot showing the total number of rows (Mouse ID/Timepoints) for each drug regimen using Pandas.

#Establish dataframe to analyze in preparation for bar chart
bar_chart_count = clean_mice_data_df.groupby("Drug Regimen").size()
x_labels = list(bar_chart_count.index)
bar_chart_df = pd.DataFrame({"Drug Regimen":x_labels,"# of Observed Mouse Timepoints":bar_chart_count}).reset_index(drop=True)
bar_chart_df = bar_chart_df.sort_values(["# of Observed Mouse Timepoints", "Drug Regimen"], ascending=[False, False])
bar_chart_df1 = bar_chart_df.set_index(bar_chart_df.columns[0])

#Prepare and output bar chart in Pandas
bar_chart_df1.plot(kind="bar", ylabel="# of Observed Mouse Timepoints", legend=False, color="b");


# Generate a bar plot showing the total number of rows (Mouse ID/Timepoints) for each drug regimen using pyplot.

#Using the dataframes from the previous code block, separate x-values and y-values into separate lists
x_values = bar_chart_df["Drug Regimen"]
y_values = bar_chart_df["# of Observed Mouse Timepoints"]

#Set parameters for bar chart
x_axis = np.arange(len(x_labels))

# Use matplotlib/pyplot to output bar chart
plt.bar(x_axis, y_values, color='b', alpha=.75, align="center", width = 0.8);

# Tell matplotlib where we would like to place each of our x axis headers
tick_locations = [value for value in x_axis]
plt.xticks(tick_locations, x_values, rotation=90)
plt.xlabel("Drug Regimen")
plt.ylabel("# of Observed Mouse Timepoints")

plt.show();


# Generate a pie plot showing the distribution of female versus male mice using Pandas
pie_chart_count = clean_mice_data_df.groupby("Sex").size()
pie_chart_count = pie_chart_count.sort_values(ascending=False)
pie_chart_count.plot.pie(ylabel="Sex", autopct="%1.1f%%");


#Using the dataframes from the previous code block, generate a pie plot showing the distribution of female versus male mice using pyplot
plt.pie(
    pie_chart_count,
    labels=pie_chart_count.index,
    autopct="%1.1f%%",
    shadow=False,
    startangle=0
)
plt.ylabel("Sex")
plt.show();





# Calculate the final tumor volume of each mouse across four of the treatment regimens:  
# Capomulin, Ramicane, Infubinol, and Ceftamin (created list for filtering)
regimen_list = ["Capomulin", 
                "Ramicane",
                "Infubinol",
                "Ceftamin"]

# Start by getting the last (greatest) timepoint for each mouse
#DF filtered for regimen_list above, then sorted and filtered
selected_regimens = clean_mice_data_df[clean_mice_data_df["Drug Regimen"].isin(regimen_list)]
selected_regimens = selected_regimens.sort_values(["Mouse ID","Timepoint"])
max_timepoint = selected_regimens.groupby(["Mouse ID","Drug Regimen"])["Timepoint"].max()

# Merge this group df with the original DataFrame to get the tumor volume at the last timepoint
sel_reg_with_max = pd.merge(selected_regimens, max_timepoint, how="inner", on="Mouse ID")
sel_reg_with_max = sel_reg_with_max.rename(columns = {"Timepoint_y":"Max Timepoint",
                                                      "Timepoint_x":"Timepoint"})
sel_reg_with_max

sel_reg_with_max["Tumor Size @ MaxTP"] = sel_reg_with_max["Tumor Volume"]\
        .where(sel_reg_with_max["Max Timepoint"] == sel_reg_with_max["Timepoint"])

sel_reg_with_max_cleaned_df = sel_reg_with_max.dropna(subset=["Tumor Size @ MaxTP"],inplace=False)
len(sel_reg_with_max_cleaned_df)



# Put treatments into a list for for loop (and later for plot labels)

# Create empty list to fill with tumor vol data (for plotting)
tumor_vol_data_list = []
regimen_vol_data_list = []

for x in range(len(sel_reg_with_max_cleaned_df)):
    tumor_vol_data_list.append(sel_reg_with_max_cleaned_df["Tumor Volume"].iloc[x])
    regimen_vol_data_list.append(sel_reg_with_max_cleaned_df["Drug Regimen"].iloc[x])


    
    
# Calculate the IQR and quantitatively determine if there are any potential outliers. 
tumor_vol_data_list_df = pd.DataFrame({"Drug Regimen":regimen_vol_data_list,
                                       "Tumor Volume":tumor_vol_data_list                                       
                                      })

quartiles = tumor_vol_data_list_df["Tumor Volume"].quantile([0.25,0.5,0.75])
lowerq = quartiles[0.25]
upperq = quartiles[0.75]
iqr = upperq-lowerq
lowerq
upperq
iqr
    # Locate the rows which contain mice on each drug and get the tumor volumes

    
    # add subset 

    
    # Determine outliers using upper and lower bounds


##print(f"Capomulin's potential outliers: {} Series([], Name: Tumor Volume (mm3), dtype: float64)
##print(f"Ramicane's potential outliers: {} Series([], Name: Tumor Volume (mm3), dtype: float64)
##print(f"Infubinol's potential outliers: {} 31    36.321346 Name: Tumor Volume (mm3), dtype: float64)
##print(f"Ceftamin's potential outliers: {} Series([], Name: Tumor Volume (mm3), dtype: float64)


# Generate a box plot that shows the distrubution of the tumor volume for each treatment group.






# Generate a line plot of tumor volume vs. time point for a single mouse treated with Capomulin



# Generate a scatter plot of mouse weight vs. the average observed tumor volume for the entire Capomulin regimen






# Calculate the correlation coefficient and a linear regression model 
# for mouse weight and average observed tumor volume for the entire Capomulin regimen




