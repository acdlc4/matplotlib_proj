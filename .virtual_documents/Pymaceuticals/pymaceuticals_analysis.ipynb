


# Dependencies and Setup
import matplotlib.pyplot as plt
import pandas as pd
import scipy.stats as st
import numpy as np
from scipy.stats import sem
from scipy.stats import linregress

    # This allows the display of more than one variable in a cell
    # without having to explicitly invoke the display command:
from IPython.core.interactiveshell import InteractiveShell
InteractiveShell.ast_node_interactivity = "all"

# Study data files
mouse_metadata_path = "data/Mouse_metadata.csv"
study_results_path = "data/Study_results.csv"

# Read the mouse data and the study results
mouse_metadata = pd.read_csv(mouse_metadata_path)
study_results = pd.read_csv(study_results_path)

# Combine the data into a single DataFrame
mouse_data_df = pd.merge(study_results, mouse_metadata, how="inner", on="Mouse ID")

# Display the data table for preview
mouse_data_df.head()


# Checking the number of mice.
len(mouse_data_df["Mouse ID"].unique())


# Our data should be uniquely identified by Mouse ID and Timepoint
# Get the duplicate mice by ID number that shows up for Mouse ID and Timepoint. 

#Find duplicate data
duplicate_data = mouse_data_df[mouse_data_df.duplicated(subset=["Mouse ID", "Timepoint"], keep = False)]
duplicate_data = duplicate_data["Mouse ID"].unique()
duplicate_data


# Optional: Get all the data for the duplicate mouse ID. 
mouse_data_df.loc[mouse_data_df['Mouse ID'].isin(duplicate_data)]


# Create a clean DataFrame by dropping the duplicate mouse by its ID.
clean_mice_data_df = mouse_data_df.drop(mouse_data_df[mouse_data_df["Mouse ID"].isin(duplicate_data)].index)
clean_mice_data_df.head()


# Checking the number of mice in the clean DataFrame.
len(clean_mice_data_df["Mouse ID"].unique())





# Generate a summary statistics table of mean, median, variance, standard deviation, and SEM of the tumor volume for each regimen

# Use groupby and summary statistical methods to calculate the following properties of each drug regimen: 
# mean, median, variance ##(assuming population by applying a factor of "ddof=1")##, standard deviation ("ddof=1" also applied),
# and SEM of the tumor volume. 
# Assemble the resulting series into a single summary DataFrame.

clean_mice_data_df = clean_mice_data_df.rename(columns={'Tumor Volume (mm3)':'Tumor Volume'})
clean_mice_data_df2 = clean_mice_data_df[["Drug Regimen","Tumor Volume"]]

clean_mice_stats_df = []
mean_tum_vol = clean_mice_data_df2.groupby(clean_mice_data_df2["Drug Regimen"])["Tumor Volume"].apply(np.mean)
med_tum_vol = clean_mice_data_df2.groupby(clean_mice_data_df2["Drug Regimen"])["Tumor Volume"].apply(np.median)
var_tum_vol = clean_mice_data_df2.groupby(clean_mice_data_df2["Drug Regimen"])["Tumor Volume"].agg(np.var, ddof=1)
std_tum_vol = clean_mice_data_df2.groupby(clean_mice_data_df2["Drug Regimen"])["Tumor Volume"].agg(np.std, ddof=1)
sem_tum_vol = clean_mice_data_df2.groupby(clean_mice_data_df2["Drug Regimen"])["Tumor Volume"].sem()

clean_mice_stats_df = pd.DataFrame({"Mean Tumor Volume":mean_tum_vol,
                                    "Median Tumor Volume":med_tum_vol,
                                    "Tumor Volume Variance":var_tum_vol,
                                    "Tumor Volume Std. Dev.":std_tum_vol,
                                    "Tumor Volume Std. Err.":sem_tum_vol})
clean_mice_stats_df


# A more advanced method to generate a summary statistics table of mean, median, variance, standard deviation,
# and SEM of the tumor volume for each regimen (only one method is required in the solution)

# Using the aggregation method, produce the same summary statistics in a single line
clean_stats_data_df2 = clean_mice_data_df2.groupby(["Drug Regimen"])["Tumor Volume"].agg(["mean","median","var","std","sem"])

#Formatting and output
column_headers = [("Tumor Volume (mm3)","mean"),
                  ("Tumor Volume (mm3)","median"),
                  ("Tumor Volume (mm3)","var"),
                  ("Tumor Volume (mm3)","std"),
                  ("Tumor Volume (mm3)","sem")]
clean_stats_data_df2.columns=pd.MultiIndex.from_tuples(column_headers)
clean_stats_data_df2





# Generate a bar plot showing the total number of rows (Mouse ID/Timepoints) for each drug regimen using Pandas.

##Establish dataframe to analyze in preparation for bar chart
bar_chart_count = clean_mice_data_df.groupby("Drug Regimen").size()
x_labels = list(bar_chart_count.index)
bar_chart_df = pd.DataFrame({"Drug Regimen":x_labels,"# of Observed Mouse Timepoints":bar_chart_count}).reset_index(drop=True)
bar_chart_df = bar_chart_df.sort_values(["# of Observed Mouse Timepoints", "Drug Regimen"], ascending=[False, False])
bar_chart_df1 = bar_chart_df.set_index(bar_chart_df.columns[0])

##Prepare and output bar chart in Pandas
bar_chart_df1.plot(kind="bar", ylabel="# of Observed Mouse Timepoints", legend=False, color="steelblue");


# Generate a bar plot showing the total number of rows (Mouse ID/Timepoints) for each drug regimen using pyplot.

##Using the dataframes from the previous code block, separate x-values and y-values into separate lists
x_values = bar_chart_df["Drug Regimen"]
y_values = bar_chart_df["# of Observed Mouse Timepoints"]

##Set parameters for bar chart
x_axis = np.arange(len(x_labels))

##Use matplotlib/pyplot to output bar chart
plt.bar(x_axis, y_values, color='steelblue', alpha=.75, align="center", width = 0.8);

##Tell matplotlib/pyplot where to place each of our x-axis headers
tick_locations = [value for value in x_axis]
plt.xticks(tick_locations, x_values, rotation=90)
plt.xlabel("Drug Regimen")
plt.ylabel("# of Observed Mouse Timepoints")
plt.show();


# Generate a pie plot showing the distribution of female versus male mice using Pandas
##Isolate data to summarize by gender and count by gender
pie_chart_count = clean_mice_data_df.groupby("Sex").size()
##Sorted to allow larger portion to show on top of pie chart
pie_chart_count = pie_chart_count.sort_values(ascending=False)
##Pie chart output
pie_chart_count.plot.pie(ylabel="Sex", autopct="%1.1f%%");


##Using the dataframes from the previous code block, generate a pie plot showing the distribution of female versus male mice using pyplot
plt.pie(
    pie_chart_count,
    labels=pie_chart_count.index,
    autopct="%1.1f%%",
    shadow=False,
    startangle=0
)
plt.ylabel("Sex")
plt.show();





# Calculate the final tumor volume of each mouse across four of the treatment regimens:  
# Capomulin, Ramicane, Infubinol, and Ceftamin (created list for filtering)
regimen_list = ["Capomulin", 
                "Ramicane",
                "Infubinol",
                "Ceftamin"]

# Start by getting the last (greatest) timepoint for each mouse
##DF filtered for regimen_list above, then sorted and filtered
selected_regimens = clean_mice_data_df[clean_mice_data_df["Drug Regimen"].isin(regimen_list)]
selected_regimens = selected_regimens.sort_values(["Mouse ID","Timepoint"])
selected_regimens = selected_regimens.reset_index()
max_timepoint = selected_regimens.groupby(["Mouse ID","Drug Regimen"])["Timepoint"].max()

# Merge this group df with the original DataFrame to get the tumor volume at the last timepoint
sel_reg_with_max = pd.merge(selected_regimens, max_timepoint, how="inner", on="Mouse ID")
sel_reg_with_max = sel_reg_with_max.rename(columns = {"Timepoint_y":"Max Timepoint",
                                                      "Timepoint_x":"Timepoint"})


# Put treatments into a list for for loop (and later for plot labels)
regimen_list = ["Capomulin", 
                "Ramicane",
                "Infubinol",
                "Ceftamin"]

##creation of DF containing only Max Timepoint results
sel_reg_with_max["Tumor Size @ MaxTP"] = sel_reg_with_max["Tumor Volume"]\
        .where(sel_reg_with_max["Max Timepoint"] == sel_reg_with_max["Timepoint"])

sel_reg_with_max_cleaned_df = sel_reg_with_max.dropna(subset=["Tumor Size @ MaxTP"],inplace=False)

# Create empty list to fill with tumor vol data (for plotting)
tumor_vol_data_list = []
regimen_vol_data_list = []

##creation via for loop of populated lists from cleaned DF containing only Max Timepoint results
for x in range(len(sel_reg_with_max_cleaned_df)):
    tumor_vol_data_list.append(sel_reg_with_max_cleaned_df["Tumor Volume"].iloc[x])
    regimen_vol_data_list.append(sel_reg_with_max_cleaned_df["Drug Regimen"].iloc[x])
  
# Calculate the IQR and quantitatively determine if there are any potential outliers. 
##creation of DF containing only drug regimen and tumor volume data based on drugs in selected 
##regimen_list and Max Timepoint tumor volumes
tumor_vol_data_list_df = pd.DataFrame({"Drug Regimen":regimen_vol_data_list,
                                       "Tumor Volume":tumor_vol_data_list})

    # Locate the rows which contain mice on each drug and get the tumor volumes
##creation of DF to isolate results by Drug Regimen using for loop
results_by_drug = {drug:[] for drug in regimen_vol_data_list}
for drug, result in zip(regimen_vol_data_list, tumor_vol_data_list):
    results_by_drug[drug].append(result)
results_by_drug_df = pd.DataFrame(results_by_drug, columns=regimen_list)

##creation of DF containing statistics of lower quartile, upper quartile, IQR, lower bound, and upper bound by Drug Regimen
## using for loops
iqr_dict = {drug:[] for drug in regimen_list}
#tumor_vol = results_by_drug_df["Tumor Volume"]
for drug in regimen_list:
    quartiles = results_by_drug_df[drug].quantile([0.25,0.5,0.75])
    lowerq = quartiles[0.25]
    upperq = quartiles[0.75]
    iqr = upperq-lowerq
    lower_bound = lowerq - (1.5 * iqr)
    upper_bound = upperq + (1.5 * iqr)

    #Append data into DF
    iqr_dict[drug].append(lowerq)
    iqr_dict[drug].append(upperq)
    iqr_dict[drug].append(iqr)
    iqr_dict[drug].append(lower_bound)
    iqr_dict[drug].append(upper_bound)
    
iqr_df = pd.DataFrame(iqr_dict)
iqr_df.index = ["lowerq",
                "upperq",
                "iqr",
                "lower_bound",
                "upper_bound"]

    # Determine outliers using upper and lower bounds
##creation of filter using upper/lower bounds to isolate possible outliers and saving results in a list using for loop
outliers = {drug:[] for drug in regimen_vol_data_list}
for drug, result in zip(regimen_vol_data_list, tumor_vol_data_list):
    if result > iqr_df[drug]["upper_bound"] or result < iqr_df[drug]["lower_bound"]:
        outliers[drug].append(result)

##Output of outliers by Drug Regimen
for drug in regimen_list:
    print(f"{drug}'s potential outliers:{outliers[drug]}")


# Generate a box plot that shows the distrubution of the tumor volume for each treatment group.
fig1, ax1 = plt.subplots()
ax1.set_ylabel('Final Tumor Volume (mm3)')
ax1.xaxis.set_ticks(range(1, len(regimen_list) + 1)) ##sets range of tickmarks from 1 through 4

##Creation of whisker/box plot, setting labels and outlier formatting
ax1.boxplot(results_by_drug_df,
            labels=regimen_list,
            flierprops={'markersize':12,
                        'markerfacecolor':'red'})
plt.show();





# Generate a line plot of tumor volume vs. time point for a single mouse treated with Capomulin

##Define data to be analyzed from DF
Timepoint = sel_reg_with_max.loc[(
    sel_reg_with_max["Mouse ID"]=="l509") & (sel_reg_with_max["Drug Regimen"]=="Capomulin"),"Timepoint"]
Tumor_size = sel_reg_with_max.loc[(
    sel_reg_with_max["Mouse ID"]=="l509") & (sel_reg_with_max["Drug Regimen"]=="Capomulin"),"Tumor Volume"]

##Set parameters and variables to be plotted on a line chart with output
fig, ax1 = plt.subplots()
plt.title("Capomulin treatment of mouse L509", fontsize=12)
ax1.set_xlim(min(Timepoint)-2, max(Timepoint)+2)
ax1.plot(Timepoint, Tumor_size, linewidth=1.5, marker="")
ax1.set_ylabel("Tumor Volume (mm3)")
ax1.set_xlabel("Timepoint (days)")
plt.show();


# Generate a scatter plot of mouse weight vs. the average observed tumor volume for the entire Capomulin regimen

##Obtain data from earlier created DF to isolate only the necessary columns into new DF for analysis
weight_vs_avg_tum_vol = clean_mice_data_df[["Drug Regimen", "Mouse ID", "Weight (g)", "Tumor Volume"]]
weight_vs_avg_tum_vol = weight_vs_avg_tum_vol.sort_values(["Mouse ID", "Tumor Volume"])
weight_vs_avg_tum_vol = weight_vs_avg_tum_vol[weight_vs_avg_tum_vol["Drug Regimen"] == "Capomulin"]

##Calculate average tumor volume by weight/mouse and save to new DF
weight_vs_avg_tum_vol_df = []
mean_tum_vol2 = weight_vs_avg_tum_vol.groupby(weight_vs_avg_tum_vol["Mouse ID"])["Tumor Volume"].apply(np.mean)
weight_vs_avg_tum_vol_df = pd.merge(mean_tum_vol2, mouse_metadata, how="left", on="Mouse ID")
weight_vs_avg_tum_vol_df = weight_vs_avg_tum_vol_df.rename(columns={"Tumor Volume":"Avg Tumor Vol"})
weight_vs_avg_tum_vol_df = weight_vs_avg_tum_vol_df[["Drug Regimen",
                                                     "Mouse ID",
                                                     "Weight (g)",
                                                     "Avg Tumor Vol"]]

##Plot the two variables of mouse weight against average tumor volume into a scatter plot and output
x_values = weight_vs_avg_tum_vol_df["Weight (g)"]
y_values = weight_vs_avg_tum_vol_df["Avg Tumor Vol"]
plt.scatter(x_values,y_values)
plt.xlabel("Weight (g)")
plt.ylabel("Average Tumor Volume (mm3)")
plt.show();





# Calculate the correlation coefficient and a linear regression model 
# for mouse weight and average observed tumor volume for the entire Capomulin regimen

##Output of scatter plot from previous coding block
plt.scatter(x_values,y_values)
plt.xlabel("Weight (g)")
plt.ylabel("Average Tumor Volume (mm3)")

##Creation and output of linear regression model against scatter plot, 
##  plus output of correlation to the nearest two decimal points (also added best-fit line)
(slope, intercept, rvalue, pvalue, stderr) = linregress(x_values, y_values)
regress_values = x_values * slope + intercept
line_eq = "y = " + str(round(slope,2)) + "x + " + str(round(intercept,2))
plt.plot(x_values,regress_values,"r-")
plt.annotate(line_eq,(18,36),fontsize=15,color="red")
correlation = st.pearsonr(x_values,y_values)
print(f"The correlation between mouse weight and the average tumor volume is {round(correlation[0],2)}.")
plt.show();
